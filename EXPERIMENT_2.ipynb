{
  "nbformat": 4,
  "nbformat_minor": 0,
  "metadata": {
    "colab": {
      "name": "EXPERIMENT-2 ",
      "provenance": [],
      "authorship_tag": "ABX9TyONchebTLKG4TrDx22eQgZO",
      "include_colab_link": true
    },
    "kernelspec": {
      "name": "python3",
      "display_name": "Python 3"
    }
  },
  "cells": [
    {
      "cell_type": "markdown",
      "metadata": {
        "id": "view-in-github",
        "colab_type": "text"
      },
      "source": [
        "<a href=\"https://colab.research.google.com/github/19PA1A0236/AI-lab/blob/master/EXPERIMENT_2.ipynb\" target=\"_parent\"><img src=\"https://colab.research.google.com/assets/colab-badge.svg\" alt=\"Open In Colab\"/></a>"
      ]
    },
    {
      "cell_type": "code",
      "metadata": {
        "id": "fu8S2ZqW8FUC",
        "colab_type": "code",
        "colab": {}
      },
      "source": [
        ""
      ],
      "execution_count": null,
      "outputs": []
    },
    {
      "cell_type": "markdown",
      "metadata": {
        "id": "US2PLfem8OTW",
        "colab_type": "text"
      },
      "source": [
        "# EXPERIMENT-2"
      ]
    },
    {
      "cell_type": "markdown",
      "metadata": {
        "id": "_QxMZRTu8Uui",
        "colab_type": "text"
      },
      "source": [
        "# Pandas"
      ]
    },
    {
      "cell_type": "markdown",
      "metadata": {
        "id": "YxiSMqqb8Y9x",
        "colab_type": "text"
      },
      "source": [
        ""
      ]
    },
    {
      "cell_type": "code",
      "metadata": {
        "id": "1dGpOlyn8kc7",
        "colab_type": "code",
        "colab": {}
      },
      "source": [
        "import pandas as pd\n",
        "import numpy as np"
      ],
      "execution_count": 1,
      "outputs": []
    },
    {
      "cell_type": "markdown",
      "metadata": {
        "id": "6Bwuo94b8tlu",
        "colab_type": "text"
      },
      "source": [
        "## 1)Create a dataframe manually."
      ]
    },
    {
      "cell_type": "code",
      "metadata": {
        "id": "6opLZHFM85db",
        "colab_type": "code",
        "colab": {
          "base_uri": "https://localhost:8080/",
          "height": 136
        },
        "outputId": "db567850-62ab-468d-9366-910cd759ff22"
      },
      "source": [
        "df=pd.DataFrame({\"Roll No\":[\"EEE203\",\"EEE236\",\"EEE244\"],\"Name\":[\"Ä.Prasanna\",\"G.Vineetha\",\"K.Poojitha\"]})\n",
        "df"
      ],
      "execution_count": 2,
      "outputs": [
        {
          "output_type": "execute_result",
          "data": {
            "text/html": [
              "<div>\n",
              "<style scoped>\n",
              "    .dataframe tbody tr th:only-of-type {\n",
              "        vertical-align: middle;\n",
              "    }\n",
              "\n",
              "    .dataframe tbody tr th {\n",
              "        vertical-align: top;\n",
              "    }\n",
              "\n",
              "    .dataframe thead th {\n",
              "        text-align: right;\n",
              "    }\n",
              "</style>\n",
              "<table border=\"1\" class=\"dataframe\">\n",
              "  <thead>\n",
              "    <tr style=\"text-align: right;\">\n",
              "      <th></th>\n",
              "      <th>Roll No</th>\n",
              "      <th>Name</th>\n",
              "    </tr>\n",
              "  </thead>\n",
              "  <tbody>\n",
              "    <tr>\n",
              "      <th>0</th>\n",
              "      <td>EEE203</td>\n",
              "      <td>Ä.Prasanna</td>\n",
              "    </tr>\n",
              "    <tr>\n",
              "      <th>1</th>\n",
              "      <td>EEE236</td>\n",
              "      <td>G.Vineetha</td>\n",
              "    </tr>\n",
              "    <tr>\n",
              "      <th>2</th>\n",
              "      <td>EEE244</td>\n",
              "      <td>K.Poojitha</td>\n",
              "    </tr>\n",
              "  </tbody>\n",
              "</table>\n",
              "</div>"
            ],
            "text/plain": [
              "  Roll No        Name\n",
              "0  EEE203  Ä.Prasanna\n",
              "1  EEE236  G.Vineetha\n",
              "2  EEE244  K.Poojitha"
            ]
          },
          "metadata": {
            "tags": []
          },
          "execution_count": 2
        }
      ]
    },
    {
      "cell_type": "markdown",
      "metadata": {
        "id": "B53ZJmvv96zn",
        "colab_type": "text"
      },
      "source": [
        "## 2)Import data into a dataframe"
      ]
    },
    {
      "cell_type": "markdown",
      "metadata": {
        "id": "Z4Ug4Uj5B7r4",
        "colab_type": "text"
      },
      "source": [
        ""
      ]
    },
    {
      "cell_type": "code",
      "metadata": {
        "id": "8jXTGqH1B8I4",
        "colab_type": "code",
        "colab": {
          "base_uri": "https://localhost:8080/",
          "height": 402
        },
        "outputId": "a9f6df67-780a-4c3b-db41-360bde48e684"
      },
      "source": [
        "df=pd.read_csv(\"students_placement_data.csv\")\n",
        "df"
      ],
      "execution_count": 7,
      "outputs": [
        {
          "output_type": "execute_result",
          "data": {
            "text/html": [
              "<div>\n",
              "<style scoped>\n",
              "    .dataframe tbody tr th:only-of-type {\n",
              "        vertical-align: middle;\n",
              "    }\n",
              "\n",
              "    .dataframe tbody tr th {\n",
              "        vertical-align: top;\n",
              "    }\n",
              "\n",
              "    .dataframe thead th {\n",
              "        text-align: right;\n",
              "    }\n",
              "</style>\n",
              "<table border=\"1\" class=\"dataframe\">\n",
              "  <thead>\n",
              "    <tr style=\"text-align: right;\">\n",
              "      <th></th>\n",
              "      <th>Roll No</th>\n",
              "      <th>Gender</th>\n",
              "      <th>Section</th>\n",
              "      <th>SSC Percentage</th>\n",
              "      <th>inter_Diploma_percentage</th>\n",
              "      <th>B.Tech_percentage</th>\n",
              "      <th>Backlogs</th>\n",
              "      <th>registered_for_ Placement_Training</th>\n",
              "      <th>placement status</th>\n",
              "    </tr>\n",
              "  </thead>\n",
              "  <tbody>\n",
              "    <tr>\n",
              "      <th>0</th>\n",
              "      <td>1</td>\n",
              "      <td>M</td>\n",
              "      <td>A</td>\n",
              "      <td>87.3</td>\n",
              "      <td>65.30</td>\n",
              "      <td>40.00</td>\n",
              "      <td>18</td>\n",
              "      <td>NO</td>\n",
              "      <td>Not placed</td>\n",
              "    </tr>\n",
              "    <tr>\n",
              "      <th>1</th>\n",
              "      <td>2</td>\n",
              "      <td>F</td>\n",
              "      <td>A</td>\n",
              "      <td>89.0</td>\n",
              "      <td>92.40</td>\n",
              "      <td>71.45</td>\n",
              "      <td>0</td>\n",
              "      <td>yes</td>\n",
              "      <td>Placed</td>\n",
              "    </tr>\n",
              "    <tr>\n",
              "      <th>2</th>\n",
              "      <td>3</td>\n",
              "      <td>F</td>\n",
              "      <td>A</td>\n",
              "      <td>67.0</td>\n",
              "      <td>68.00</td>\n",
              "      <td>45.26</td>\n",
              "      <td>13</td>\n",
              "      <td>yes</td>\n",
              "      <td>Not placed</td>\n",
              "    </tr>\n",
              "    <tr>\n",
              "      <th>3</th>\n",
              "      <td>4</td>\n",
              "      <td>M</td>\n",
              "      <td>A</td>\n",
              "      <td>71.0</td>\n",
              "      <td>70.40</td>\n",
              "      <td>36.47</td>\n",
              "      <td>17</td>\n",
              "      <td>yes</td>\n",
              "      <td>Not placed</td>\n",
              "    </tr>\n",
              "    <tr>\n",
              "      <th>4</th>\n",
              "      <td>5</td>\n",
              "      <td>M</td>\n",
              "      <td>A</td>\n",
              "      <td>NaN</td>\n",
              "      <td>65.50</td>\n",
              "      <td>42.52</td>\n",
              "      <td>17</td>\n",
              "      <td>yes</td>\n",
              "      <td>Not placed</td>\n",
              "    </tr>\n",
              "    <tr>\n",
              "      <th>...</th>\n",
              "      <td>...</td>\n",
              "      <td>...</td>\n",
              "      <td>...</td>\n",
              "      <td>...</td>\n",
              "      <td>...</td>\n",
              "      <td>...</td>\n",
              "      <td>...</td>\n",
              "      <td>...</td>\n",
              "      <td>...</td>\n",
              "    </tr>\n",
              "    <tr>\n",
              "      <th>112</th>\n",
              "      <td>113</td>\n",
              "      <td>M</td>\n",
              "      <td>B</td>\n",
              "      <td>81.1</td>\n",
              "      <td>78.60</td>\n",
              "      <td>35.84</td>\n",
              "      <td>16</td>\n",
              "      <td>NO</td>\n",
              "      <td>Not placed</td>\n",
              "    </tr>\n",
              "    <tr>\n",
              "      <th>113</th>\n",
              "      <td>114</td>\n",
              "      <td>M</td>\n",
              "      <td>B</td>\n",
              "      <td>81.3</td>\n",
              "      <td>85.12</td>\n",
              "      <td>68.50</td>\n",
              "      <td>0</td>\n",
              "      <td>NO</td>\n",
              "      <td>Not placed</td>\n",
              "    </tr>\n",
              "    <tr>\n",
              "      <th>114</th>\n",
              "      <td>115</td>\n",
              "      <td>M</td>\n",
              "      <td>B</td>\n",
              "      <td>83.5</td>\n",
              "      <td>89.90</td>\n",
              "      <td>76.30</td>\n",
              "      <td>0</td>\n",
              "      <td>NO</td>\n",
              "      <td>Not placed</td>\n",
              "    </tr>\n",
              "    <tr>\n",
              "      <th>115</th>\n",
              "      <td>116</td>\n",
              "      <td>M</td>\n",
              "      <td>B</td>\n",
              "      <td>85.5</td>\n",
              "      <td>90.63</td>\n",
              "      <td>74.50</td>\n",
              "      <td>0</td>\n",
              "      <td>NO</td>\n",
              "      <td>Not placed</td>\n",
              "    </tr>\n",
              "    <tr>\n",
              "      <th>116</th>\n",
              "      <td>117</td>\n",
              "      <td>M</td>\n",
              "      <td>B</td>\n",
              "      <td>80.0</td>\n",
              "      <td>83.33</td>\n",
              "      <td>65.53</td>\n",
              "      <td>0</td>\n",
              "      <td>NO</td>\n",
              "      <td>Not placed</td>\n",
              "    </tr>\n",
              "  </tbody>\n",
              "</table>\n",
              "<p>117 rows × 9 columns</p>\n",
              "</div>"
            ],
            "text/plain": [
              "     Roll No Gender  ... registered_for_ Placement_Training  placement status\n",
              "0          1      M  ...                                 NO        Not placed\n",
              "1          2      F  ...                                yes            Placed\n",
              "2          3      F  ...                                yes        Not placed\n",
              "3          4      M  ...                                yes        Not placed\n",
              "4          5      M  ...                                yes        Not placed\n",
              "..       ...    ...  ...                                ...               ...\n",
              "112      113      M  ...                                 NO        Not placed\n",
              "113      114      M  ...                                 NO        Not placed\n",
              "114      115      M  ...                                 NO        Not placed\n",
              "115      116      M  ...                                 NO        Not placed\n",
              "116      117      M  ...                                 NO        Not placed\n",
              "\n",
              "[117 rows x 9 columns]"
            ]
          },
          "metadata": {
            "tags": []
          },
          "execution_count": 7
        }
      ]
    },
    {
      "cell_type": "markdown",
      "metadata": {
        "id": "QCLketztCh-u",
        "colab_type": "text"
      },
      "source": [
        "## 3)Adding, Deleting, Modifying the rows/columns in a dataframe."
      ]
    },
    {
      "cell_type": "markdown",
      "metadata": {
        "id": "jHZSojLlDJ26",
        "colab_type": "text"
      },
      "source": [
        "### 3.1)Adding a column"
      ]
    },
    {
      "cell_type": "code",
      "metadata": {
        "id": "XGhYSvgKEoSQ",
        "colab_type": "code",
        "colab": {
          "base_uri": "https://localhost:8080/",
          "height": 195
        },
        "outputId": "fa61f86b-aa83-4375-e65e-7eebed1da407"
      },
      "source": [
        "host_day=pd.read_csv(\"hostlers_day_scholars.csv\")\n",
        "host_day.head()"
      ],
      "execution_count": 9,
      "outputs": [
        {
          "output_type": "execute_result",
          "data": {
            "text/html": [
              "<div>\n",
              "<style scoped>\n",
              "    .dataframe tbody tr th:only-of-type {\n",
              "        vertical-align: middle;\n",
              "    }\n",
              "\n",
              "    .dataframe tbody tr th {\n",
              "        vertical-align: top;\n",
              "    }\n",
              "\n",
              "    .dataframe thead th {\n",
              "        text-align: right;\n",
              "    }\n",
              "</style>\n",
              "<table border=\"1\" class=\"dataframe\">\n",
              "  <thead>\n",
              "    <tr style=\"text-align: right;\">\n",
              "      <th></th>\n",
              "      <th>hostler/days scholar</th>\n",
              "    </tr>\n",
              "  </thead>\n",
              "  <tbody>\n",
              "    <tr>\n",
              "      <th>0</th>\n",
              "      <td>d</td>\n",
              "    </tr>\n",
              "    <tr>\n",
              "      <th>1</th>\n",
              "      <td>d</td>\n",
              "    </tr>\n",
              "    <tr>\n",
              "      <th>2</th>\n",
              "      <td>d</td>\n",
              "    </tr>\n",
              "    <tr>\n",
              "      <th>3</th>\n",
              "      <td>d</td>\n",
              "    </tr>\n",
              "    <tr>\n",
              "      <th>4</th>\n",
              "      <td>h</td>\n",
              "    </tr>\n",
              "  </tbody>\n",
              "</table>\n",
              "</div>"
            ],
            "text/plain": [
              "  hostler/days scholar\n",
              "0                    d\n",
              "1                    d\n",
              "2                    d\n",
              "3                    d\n",
              "4                    h"
            ]
          },
          "metadata": {
            "tags": []
          },
          "execution_count": 9
        }
      ]
    },
    {
      "cell_type": "code",
      "metadata": {
        "id": "Fxm-uQX-Frtx",
        "colab_type": "code",
        "colab": {
          "base_uri": "https://localhost:8080/",
          "height": 195
        },
        "outputId": "5312a6d9-52ea-427f-b369-cf36a7eac158"
      },
      "source": [
        "df[\"hostlers/days scholar\"]=host_day.values\n",
        "df.head()"
      ],
      "execution_count": 10,
      "outputs": [
        {
          "output_type": "execute_result",
          "data": {
            "text/html": [
              "<div>\n",
              "<style scoped>\n",
              "    .dataframe tbody tr th:only-of-type {\n",
              "        vertical-align: middle;\n",
              "    }\n",
              "\n",
              "    .dataframe tbody tr th {\n",
              "        vertical-align: top;\n",
              "    }\n",
              "\n",
              "    .dataframe thead th {\n",
              "        text-align: right;\n",
              "    }\n",
              "</style>\n",
              "<table border=\"1\" class=\"dataframe\">\n",
              "  <thead>\n",
              "    <tr style=\"text-align: right;\">\n",
              "      <th></th>\n",
              "      <th>Roll No</th>\n",
              "      <th>Gender</th>\n",
              "      <th>Section</th>\n",
              "      <th>SSC Percentage</th>\n",
              "      <th>inter_Diploma_percentage</th>\n",
              "      <th>B.Tech_percentage</th>\n",
              "      <th>Backlogs</th>\n",
              "      <th>registered_for_ Placement_Training</th>\n",
              "      <th>placement status</th>\n",
              "      <th>hostlers/days scholar</th>\n",
              "    </tr>\n",
              "  </thead>\n",
              "  <tbody>\n",
              "    <tr>\n",
              "      <th>0</th>\n",
              "      <td>1</td>\n",
              "      <td>M</td>\n",
              "      <td>A</td>\n",
              "      <td>87.3</td>\n",
              "      <td>65.3</td>\n",
              "      <td>40.00</td>\n",
              "      <td>18</td>\n",
              "      <td>NO</td>\n",
              "      <td>Not placed</td>\n",
              "      <td>d</td>\n",
              "    </tr>\n",
              "    <tr>\n",
              "      <th>1</th>\n",
              "      <td>2</td>\n",
              "      <td>F</td>\n",
              "      <td>A</td>\n",
              "      <td>89.0</td>\n",
              "      <td>92.4</td>\n",
              "      <td>71.45</td>\n",
              "      <td>0</td>\n",
              "      <td>yes</td>\n",
              "      <td>Placed</td>\n",
              "      <td>d</td>\n",
              "    </tr>\n",
              "    <tr>\n",
              "      <th>2</th>\n",
              "      <td>3</td>\n",
              "      <td>F</td>\n",
              "      <td>A</td>\n",
              "      <td>67.0</td>\n",
              "      <td>68.0</td>\n",
              "      <td>45.26</td>\n",
              "      <td>13</td>\n",
              "      <td>yes</td>\n",
              "      <td>Not placed</td>\n",
              "      <td>d</td>\n",
              "    </tr>\n",
              "    <tr>\n",
              "      <th>3</th>\n",
              "      <td>4</td>\n",
              "      <td>M</td>\n",
              "      <td>A</td>\n",
              "      <td>71.0</td>\n",
              "      <td>70.4</td>\n",
              "      <td>36.47</td>\n",
              "      <td>17</td>\n",
              "      <td>yes</td>\n",
              "      <td>Not placed</td>\n",
              "      <td>d</td>\n",
              "    </tr>\n",
              "    <tr>\n",
              "      <th>4</th>\n",
              "      <td>5</td>\n",
              "      <td>M</td>\n",
              "      <td>A</td>\n",
              "      <td>NaN</td>\n",
              "      <td>65.5</td>\n",
              "      <td>42.52</td>\n",
              "      <td>17</td>\n",
              "      <td>yes</td>\n",
              "      <td>Not placed</td>\n",
              "      <td>h</td>\n",
              "    </tr>\n",
              "  </tbody>\n",
              "</table>\n",
              "</div>"
            ],
            "text/plain": [
              "   Roll No Gender  ... placement status  hostlers/days scholar\n",
              "0        1      M  ...       Not placed                      d\n",
              "1        2      F  ...           Placed                      d\n",
              "2        3      F  ...       Not placed                      d\n",
              "3        4      M  ...       Not placed                      d\n",
              "4        5      M  ...       Not placed                      h\n",
              "\n",
              "[5 rows x 10 columns]"
            ]
          },
          "metadata": {
            "tags": []
          },
          "execution_count": 10
        }
      ]
    },
    {
      "cell_type": "markdown",
      "metadata": {
        "id": "U9wP8boBGJ1J",
        "colab_type": "text"
      },
      "source": [
        "### 3.2)Deleting a column "
      ]
    },
    {
      "cell_type": "code",
      "metadata": {
        "id": "dDLwT7cnGXFl",
        "colab_type": "code",
        "colab": {
          "base_uri": "https://localhost:8080/",
          "height": 195
        },
        "outputId": "2ff89779-7613-49de-f08c-e761e67ab67f"
      },
      "source": [
        "del df[\"registered_for_ Placement_Training\"] \n",
        "df.head()"
      ],
      "execution_count": 15,
      "outputs": [
        {
          "output_type": "execute_result",
          "data": {
            "text/html": [
              "<div>\n",
              "<style scoped>\n",
              "    .dataframe tbody tr th:only-of-type {\n",
              "        vertical-align: middle;\n",
              "    }\n",
              "\n",
              "    .dataframe tbody tr th {\n",
              "        vertical-align: top;\n",
              "    }\n",
              "\n",
              "    .dataframe thead th {\n",
              "        text-align: right;\n",
              "    }\n",
              "</style>\n",
              "<table border=\"1\" class=\"dataframe\">\n",
              "  <thead>\n",
              "    <tr style=\"text-align: right;\">\n",
              "      <th></th>\n",
              "      <th>Roll No</th>\n",
              "      <th>Gender</th>\n",
              "      <th>Section</th>\n",
              "      <th>SSC Percentage</th>\n",
              "      <th>inter_Diploma_percentage</th>\n",
              "      <th>B.Tech_percentage</th>\n",
              "      <th>Backlogs</th>\n",
              "      <th>placement status</th>\n",
              "      <th>hostlers/days scholar</th>\n",
              "    </tr>\n",
              "  </thead>\n",
              "  <tbody>\n",
              "    <tr>\n",
              "      <th>0</th>\n",
              "      <td>1</td>\n",
              "      <td>M</td>\n",
              "      <td>A</td>\n",
              "      <td>87.3</td>\n",
              "      <td>65.3</td>\n",
              "      <td>40.00</td>\n",
              "      <td>18</td>\n",
              "      <td>Not placed</td>\n",
              "      <td>d</td>\n",
              "    </tr>\n",
              "    <tr>\n",
              "      <th>1</th>\n",
              "      <td>2</td>\n",
              "      <td>F</td>\n",
              "      <td>A</td>\n",
              "      <td>89.0</td>\n",
              "      <td>92.4</td>\n",
              "      <td>71.45</td>\n",
              "      <td>0</td>\n",
              "      <td>Placed</td>\n",
              "      <td>d</td>\n",
              "    </tr>\n",
              "    <tr>\n",
              "      <th>2</th>\n",
              "      <td>3</td>\n",
              "      <td>F</td>\n",
              "      <td>A</td>\n",
              "      <td>67.0</td>\n",
              "      <td>68.0</td>\n",
              "      <td>45.26</td>\n",
              "      <td>13</td>\n",
              "      <td>Not placed</td>\n",
              "      <td>d</td>\n",
              "    </tr>\n",
              "    <tr>\n",
              "      <th>3</th>\n",
              "      <td>4</td>\n",
              "      <td>M</td>\n",
              "      <td>A</td>\n",
              "      <td>71.0</td>\n",
              "      <td>70.4</td>\n",
              "      <td>36.47</td>\n",
              "      <td>17</td>\n",
              "      <td>Not placed</td>\n",
              "      <td>d</td>\n",
              "    </tr>\n",
              "    <tr>\n",
              "      <th>4</th>\n",
              "      <td>5</td>\n",
              "      <td>M</td>\n",
              "      <td>A</td>\n",
              "      <td>NaN</td>\n",
              "      <td>65.5</td>\n",
              "      <td>42.52</td>\n",
              "      <td>17</td>\n",
              "      <td>Not placed</td>\n",
              "      <td>h</td>\n",
              "    </tr>\n",
              "  </tbody>\n",
              "</table>\n",
              "</div>"
            ],
            "text/plain": [
              "   Roll No Gender Section  ...  Backlogs  placement status  hostlers/days scholar\n",
              "0        1      M       A  ...        18        Not placed                      d\n",
              "1        2      F       A  ...         0            Placed                      d\n",
              "2        3      F       A  ...        13        Not placed                      d\n",
              "3        4      M       A  ...        17        Not placed                      d\n",
              "4        5      M       A  ...        17        Not placed                      h\n",
              "\n",
              "[5 rows x 9 columns]"
            ]
          },
          "metadata": {
            "tags": []
          },
          "execution_count": 15
        }
      ]
    },
    {
      "cell_type": "markdown",
      "metadata": {
        "id": "iPYkl7XvHkH6",
        "colab_type": "text"
      },
      "source": [
        "### 3.3)Adding a row"
      ]
    },
    {
      "cell_type": "code",
      "metadata": {
        "id": "s8FX_yCAHtm9",
        "colab_type": "code",
        "colab": {
          "base_uri": "https://localhost:8080/",
          "height": 77
        },
        "outputId": "2c7a87df-5a40-4016-e2a0-6ee758723be3"
      },
      "source": [
        "df1=pd.DataFrame({\"Roll No\": [118],\"Gender\": [\"F\"],\"Section\": [\"C\"],\"SSC Percentage\": [98.4],\"inter-Diplomo_percentage\": [99],\"B.Tech_percentage\": [75],\"Backlogs\": [0],\"placement status\": [\"Not placed\"],\"hostlers/days scholar\": [\"h\"]},index=[117])\n",
        "df1"
      ],
      "execution_count": 16,
      "outputs": [
        {
          "output_type": "execute_result",
          "data": {
            "text/html": [
              "<div>\n",
              "<style scoped>\n",
              "    .dataframe tbody tr th:only-of-type {\n",
              "        vertical-align: middle;\n",
              "    }\n",
              "\n",
              "    .dataframe tbody tr th {\n",
              "        vertical-align: top;\n",
              "    }\n",
              "\n",
              "    .dataframe thead th {\n",
              "        text-align: right;\n",
              "    }\n",
              "</style>\n",
              "<table border=\"1\" class=\"dataframe\">\n",
              "  <thead>\n",
              "    <tr style=\"text-align: right;\">\n",
              "      <th></th>\n",
              "      <th>Roll No</th>\n",
              "      <th>Gender</th>\n",
              "      <th>Section</th>\n",
              "      <th>SSC Percentage</th>\n",
              "      <th>inter-Diplomo_percentage</th>\n",
              "      <th>B.Tech_percentage</th>\n",
              "      <th>Backlogs</th>\n",
              "      <th>placement status</th>\n",
              "      <th>hostlers/days scholar</th>\n",
              "    </tr>\n",
              "  </thead>\n",
              "  <tbody>\n",
              "    <tr>\n",
              "      <th>117</th>\n",
              "      <td>118</td>\n",
              "      <td>F</td>\n",
              "      <td>C</td>\n",
              "      <td>98.4</td>\n",
              "      <td>99</td>\n",
              "      <td>75</td>\n",
              "      <td>0</td>\n",
              "      <td>Not placed</td>\n",
              "      <td>h</td>\n",
              "    </tr>\n",
              "  </tbody>\n",
              "</table>\n",
              "</div>"
            ],
            "text/plain": [
              "     Roll No Gender Section  ...  Backlogs  placement status  hostlers/days scholar\n",
              "117      118      F       C  ...         0        Not placed                      h\n",
              "\n",
              "[1 rows x 9 columns]"
            ]
          },
          "metadata": {
            "tags": []
          },
          "execution_count": 16
        }
      ]
    },
    {
      "cell_type": "code",
      "metadata": {
        "id": "0fXbZIEdJuTE",
        "colab_type": "code",
        "colab": {
          "base_uri": "https://localhost:8080/",
          "height": 195
        },
        "outputId": "1d9facb1-717c-4f10-98d1-cf273f524a54"
      },
      "source": [
        "df=df.append(df1)\n",
        "df.head()"
      ],
      "execution_count": 17,
      "outputs": [
        {
          "output_type": "execute_result",
          "data": {
            "text/html": [
              "<div>\n",
              "<style scoped>\n",
              "    .dataframe tbody tr th:only-of-type {\n",
              "        vertical-align: middle;\n",
              "    }\n",
              "\n",
              "    .dataframe tbody tr th {\n",
              "        vertical-align: top;\n",
              "    }\n",
              "\n",
              "    .dataframe thead th {\n",
              "        text-align: right;\n",
              "    }\n",
              "</style>\n",
              "<table border=\"1\" class=\"dataframe\">\n",
              "  <thead>\n",
              "    <tr style=\"text-align: right;\">\n",
              "      <th></th>\n",
              "      <th>Roll No</th>\n",
              "      <th>Gender</th>\n",
              "      <th>Section</th>\n",
              "      <th>SSC Percentage</th>\n",
              "      <th>inter_Diploma_percentage</th>\n",
              "      <th>B.Tech_percentage</th>\n",
              "      <th>Backlogs</th>\n",
              "      <th>placement status</th>\n",
              "      <th>hostlers/days scholar</th>\n",
              "      <th>inter-Diplomo_percentage</th>\n",
              "    </tr>\n",
              "  </thead>\n",
              "  <tbody>\n",
              "    <tr>\n",
              "      <th>0</th>\n",
              "      <td>1</td>\n",
              "      <td>M</td>\n",
              "      <td>A</td>\n",
              "      <td>87.3</td>\n",
              "      <td>65.3</td>\n",
              "      <td>40.00</td>\n",
              "      <td>18</td>\n",
              "      <td>Not placed</td>\n",
              "      <td>d</td>\n",
              "      <td>NaN</td>\n",
              "    </tr>\n",
              "    <tr>\n",
              "      <th>1</th>\n",
              "      <td>2</td>\n",
              "      <td>F</td>\n",
              "      <td>A</td>\n",
              "      <td>89.0</td>\n",
              "      <td>92.4</td>\n",
              "      <td>71.45</td>\n",
              "      <td>0</td>\n",
              "      <td>Placed</td>\n",
              "      <td>d</td>\n",
              "      <td>NaN</td>\n",
              "    </tr>\n",
              "    <tr>\n",
              "      <th>2</th>\n",
              "      <td>3</td>\n",
              "      <td>F</td>\n",
              "      <td>A</td>\n",
              "      <td>67.0</td>\n",
              "      <td>68.0</td>\n",
              "      <td>45.26</td>\n",
              "      <td>13</td>\n",
              "      <td>Not placed</td>\n",
              "      <td>d</td>\n",
              "      <td>NaN</td>\n",
              "    </tr>\n",
              "    <tr>\n",
              "      <th>3</th>\n",
              "      <td>4</td>\n",
              "      <td>M</td>\n",
              "      <td>A</td>\n",
              "      <td>71.0</td>\n",
              "      <td>70.4</td>\n",
              "      <td>36.47</td>\n",
              "      <td>17</td>\n",
              "      <td>Not placed</td>\n",
              "      <td>d</td>\n",
              "      <td>NaN</td>\n",
              "    </tr>\n",
              "    <tr>\n",
              "      <th>4</th>\n",
              "      <td>5</td>\n",
              "      <td>M</td>\n",
              "      <td>A</td>\n",
              "      <td>NaN</td>\n",
              "      <td>65.5</td>\n",
              "      <td>42.52</td>\n",
              "      <td>17</td>\n",
              "      <td>Not placed</td>\n",
              "      <td>h</td>\n",
              "      <td>NaN</td>\n",
              "    </tr>\n",
              "  </tbody>\n",
              "</table>\n",
              "</div>"
            ],
            "text/plain": [
              "   Roll No Gender  ... hostlers/days scholar  inter-Diplomo_percentage\n",
              "0        1      M  ...                     d                       NaN\n",
              "1        2      F  ...                     d                       NaN\n",
              "2        3      F  ...                     d                       NaN\n",
              "3        4      M  ...                     d                       NaN\n",
              "4        5      M  ...                     h                       NaN\n",
              "\n",
              "[5 rows x 10 columns]"
            ]
          },
          "metadata": {
            "tags": []
          },
          "execution_count": 17
        }
      ]
    },
    {
      "cell_type": "markdown",
      "metadata": {
        "id": "FCT71-lSJ4Tf",
        "colab_type": "text"
      },
      "source": [
        "### 3.4)Deleting a row"
      ]
    },
    {
      "cell_type": "code",
      "metadata": {
        "id": "Y5cHiDgrJ--E",
        "colab_type": "code",
        "colab": {
          "base_uri": "https://localhost:8080/",
          "height": 195
        },
        "outputId": "c30073e4-abce-46ac-84aa-778cec3de479"
      },
      "source": [
        "df=df.drop(3)\n",
        "df.head()"
      ],
      "execution_count": 18,
      "outputs": [
        {
          "output_type": "execute_result",
          "data": {
            "text/html": [
              "<div>\n",
              "<style scoped>\n",
              "    .dataframe tbody tr th:only-of-type {\n",
              "        vertical-align: middle;\n",
              "    }\n",
              "\n",
              "    .dataframe tbody tr th {\n",
              "        vertical-align: top;\n",
              "    }\n",
              "\n",
              "    .dataframe thead th {\n",
              "        text-align: right;\n",
              "    }\n",
              "</style>\n",
              "<table border=\"1\" class=\"dataframe\">\n",
              "  <thead>\n",
              "    <tr style=\"text-align: right;\">\n",
              "      <th></th>\n",
              "      <th>Roll No</th>\n",
              "      <th>Gender</th>\n",
              "      <th>Section</th>\n",
              "      <th>SSC Percentage</th>\n",
              "      <th>inter_Diploma_percentage</th>\n",
              "      <th>B.Tech_percentage</th>\n",
              "      <th>Backlogs</th>\n",
              "      <th>placement status</th>\n",
              "      <th>hostlers/days scholar</th>\n",
              "      <th>inter-Diplomo_percentage</th>\n",
              "    </tr>\n",
              "  </thead>\n",
              "  <tbody>\n",
              "    <tr>\n",
              "      <th>0</th>\n",
              "      <td>1</td>\n",
              "      <td>M</td>\n",
              "      <td>A</td>\n",
              "      <td>87.30</td>\n",
              "      <td>65.3</td>\n",
              "      <td>40.00</td>\n",
              "      <td>18</td>\n",
              "      <td>Not placed</td>\n",
              "      <td>d</td>\n",
              "      <td>NaN</td>\n",
              "    </tr>\n",
              "    <tr>\n",
              "      <th>1</th>\n",
              "      <td>2</td>\n",
              "      <td>F</td>\n",
              "      <td>A</td>\n",
              "      <td>89.00</td>\n",
              "      <td>92.4</td>\n",
              "      <td>71.45</td>\n",
              "      <td>0</td>\n",
              "      <td>Placed</td>\n",
              "      <td>d</td>\n",
              "      <td>NaN</td>\n",
              "    </tr>\n",
              "    <tr>\n",
              "      <th>2</th>\n",
              "      <td>3</td>\n",
              "      <td>F</td>\n",
              "      <td>A</td>\n",
              "      <td>67.00</td>\n",
              "      <td>68.0</td>\n",
              "      <td>45.26</td>\n",
              "      <td>13</td>\n",
              "      <td>Not placed</td>\n",
              "      <td>d</td>\n",
              "      <td>NaN</td>\n",
              "    </tr>\n",
              "    <tr>\n",
              "      <th>4</th>\n",
              "      <td>5</td>\n",
              "      <td>M</td>\n",
              "      <td>A</td>\n",
              "      <td>NaN</td>\n",
              "      <td>65.5</td>\n",
              "      <td>42.52</td>\n",
              "      <td>17</td>\n",
              "      <td>Not placed</td>\n",
              "      <td>h</td>\n",
              "      <td>NaN</td>\n",
              "    </tr>\n",
              "    <tr>\n",
              "      <th>5</th>\n",
              "      <td>6</td>\n",
              "      <td>M</td>\n",
              "      <td>A</td>\n",
              "      <td>81.26</td>\n",
              "      <td>68.0</td>\n",
              "      <td>62.20</td>\n",
              "      <td>6</td>\n",
              "      <td>Not placed</td>\n",
              "      <td>h</td>\n",
              "      <td>NaN</td>\n",
              "    </tr>\n",
              "  </tbody>\n",
              "</table>\n",
              "</div>"
            ],
            "text/plain": [
              "   Roll No Gender  ... hostlers/days scholar  inter-Diplomo_percentage\n",
              "0        1      M  ...                     d                       NaN\n",
              "1        2      F  ...                     d                       NaN\n",
              "2        3      F  ...                     d                       NaN\n",
              "4        5      M  ...                     h                       NaN\n",
              "5        6      M  ...                     h                       NaN\n",
              "\n",
              "[5 rows x 10 columns]"
            ]
          },
          "metadata": {
            "tags": []
          },
          "execution_count": 18
        }
      ]
    },
    {
      "cell_type": "markdown",
      "metadata": {
        "id": "H3L6OXPbKL9S",
        "colab_type": "text"
      },
      "source": [
        "### 3.5) Modifying elements\n"
      ]
    },
    {
      "cell_type": "code",
      "metadata": {
        "id": "mHk_N-frKcoS",
        "colab_type": "code",
        "colab": {
          "base_uri": "https://localhost:8080/",
          "height": 195
        },
        "outputId": "6078a54f-b1b6-4517-901b-f6a90b9741b9"
      },
      "source": [
        "df.loc[1,\"hostlers/days scholar\"]=\"h\"\n",
        "df.head()"
      ],
      "execution_count": 19,
      "outputs": [
        {
          "output_type": "execute_result",
          "data": {
            "text/html": [
              "<div>\n",
              "<style scoped>\n",
              "    .dataframe tbody tr th:only-of-type {\n",
              "        vertical-align: middle;\n",
              "    }\n",
              "\n",
              "    .dataframe tbody tr th {\n",
              "        vertical-align: top;\n",
              "    }\n",
              "\n",
              "    .dataframe thead th {\n",
              "        text-align: right;\n",
              "    }\n",
              "</style>\n",
              "<table border=\"1\" class=\"dataframe\">\n",
              "  <thead>\n",
              "    <tr style=\"text-align: right;\">\n",
              "      <th></th>\n",
              "      <th>Roll No</th>\n",
              "      <th>Gender</th>\n",
              "      <th>Section</th>\n",
              "      <th>SSC Percentage</th>\n",
              "      <th>inter_Diploma_percentage</th>\n",
              "      <th>B.Tech_percentage</th>\n",
              "      <th>Backlogs</th>\n",
              "      <th>placement status</th>\n",
              "      <th>hostlers/days scholar</th>\n",
              "      <th>inter-Diplomo_percentage</th>\n",
              "    </tr>\n",
              "  </thead>\n",
              "  <tbody>\n",
              "    <tr>\n",
              "      <th>0</th>\n",
              "      <td>1</td>\n",
              "      <td>M</td>\n",
              "      <td>A</td>\n",
              "      <td>87.30</td>\n",
              "      <td>65.3</td>\n",
              "      <td>40.00</td>\n",
              "      <td>18</td>\n",
              "      <td>Not placed</td>\n",
              "      <td>d</td>\n",
              "      <td>NaN</td>\n",
              "    </tr>\n",
              "    <tr>\n",
              "      <th>1</th>\n",
              "      <td>2</td>\n",
              "      <td>F</td>\n",
              "      <td>A</td>\n",
              "      <td>89.00</td>\n",
              "      <td>92.4</td>\n",
              "      <td>71.45</td>\n",
              "      <td>0</td>\n",
              "      <td>Placed</td>\n",
              "      <td>h</td>\n",
              "      <td>NaN</td>\n",
              "    </tr>\n",
              "    <tr>\n",
              "      <th>2</th>\n",
              "      <td>3</td>\n",
              "      <td>F</td>\n",
              "      <td>A</td>\n",
              "      <td>67.00</td>\n",
              "      <td>68.0</td>\n",
              "      <td>45.26</td>\n",
              "      <td>13</td>\n",
              "      <td>Not placed</td>\n",
              "      <td>d</td>\n",
              "      <td>NaN</td>\n",
              "    </tr>\n",
              "    <tr>\n",
              "      <th>4</th>\n",
              "      <td>5</td>\n",
              "      <td>M</td>\n",
              "      <td>A</td>\n",
              "      <td>NaN</td>\n",
              "      <td>65.5</td>\n",
              "      <td>42.52</td>\n",
              "      <td>17</td>\n",
              "      <td>Not placed</td>\n",
              "      <td>h</td>\n",
              "      <td>NaN</td>\n",
              "    </tr>\n",
              "    <tr>\n",
              "      <th>5</th>\n",
              "      <td>6</td>\n",
              "      <td>M</td>\n",
              "      <td>A</td>\n",
              "      <td>81.26</td>\n",
              "      <td>68.0</td>\n",
              "      <td>62.20</td>\n",
              "      <td>6</td>\n",
              "      <td>Not placed</td>\n",
              "      <td>h</td>\n",
              "      <td>NaN</td>\n",
              "    </tr>\n",
              "  </tbody>\n",
              "</table>\n",
              "</div>"
            ],
            "text/plain": [
              "   Roll No Gender  ... hostlers/days scholar  inter-Diplomo_percentage\n",
              "0        1      M  ...                     d                       NaN\n",
              "1        2      F  ...                     h                       NaN\n",
              "2        3      F  ...                     d                       NaN\n",
              "4        5      M  ...                     h                       NaN\n",
              "5        6      M  ...                     h                       NaN\n",
              "\n",
              "[5 rows x 10 columns]"
            ]
          },
          "metadata": {
            "tags": []
          },
          "execution_count": 19
        }
      ]
    },
    {
      "cell_type": "markdown",
      "metadata": {
        "id": "hqXHEeqEKvC_",
        "colab_type": "text"
      },
      "source": [
        "## 4) Applying functions on a dataframe."
      ]
    },
    {
      "cell_type": "code",
      "metadata": {
        "id": "Et9t7uwwK5BL",
        "colab_type": "code",
        "colab": {}
      },
      "source": [
        "def gp(y):\n",
        "  if(y<70):\n",
        "    return(y+0.05)\n",
        "  else:\n",
        "    return(y)  "
      ],
      "execution_count": 21,
      "outputs": []
    },
    {
      "cell_type": "code",
      "metadata": {
        "id": "94eL-_IMLmeq",
        "colab_type": "code",
        "colab": {
          "base_uri": "https://localhost:8080/",
          "height": 195
        },
        "outputId": "949c705b-e5ee-4fa5-d2d8-d02ca4ff7a17"
      },
      "source": [
        "df[\"B.Tech_percentage\"]=df[\"B.Tech_percentage\"].apply(gp)\n",
        "df.head()"
      ],
      "execution_count": 22,
      "outputs": [
        {
          "output_type": "execute_result",
          "data": {
            "text/html": [
              "<div>\n",
              "<style scoped>\n",
              "    .dataframe tbody tr th:only-of-type {\n",
              "        vertical-align: middle;\n",
              "    }\n",
              "\n",
              "    .dataframe tbody tr th {\n",
              "        vertical-align: top;\n",
              "    }\n",
              "\n",
              "    .dataframe thead th {\n",
              "        text-align: right;\n",
              "    }\n",
              "</style>\n",
              "<table border=\"1\" class=\"dataframe\">\n",
              "  <thead>\n",
              "    <tr style=\"text-align: right;\">\n",
              "      <th></th>\n",
              "      <th>Roll No</th>\n",
              "      <th>Gender</th>\n",
              "      <th>Section</th>\n",
              "      <th>SSC Percentage</th>\n",
              "      <th>inter_Diploma_percentage</th>\n",
              "      <th>B.Tech_percentage</th>\n",
              "      <th>Backlogs</th>\n",
              "      <th>placement status</th>\n",
              "      <th>hostlers/days scholar</th>\n",
              "      <th>inter-Diplomo_percentage</th>\n",
              "    </tr>\n",
              "  </thead>\n",
              "  <tbody>\n",
              "    <tr>\n",
              "      <th>0</th>\n",
              "      <td>1</td>\n",
              "      <td>M</td>\n",
              "      <td>A</td>\n",
              "      <td>87.30</td>\n",
              "      <td>65.3</td>\n",
              "      <td>40.05</td>\n",
              "      <td>18</td>\n",
              "      <td>Not placed</td>\n",
              "      <td>d</td>\n",
              "      <td>NaN</td>\n",
              "    </tr>\n",
              "    <tr>\n",
              "      <th>1</th>\n",
              "      <td>2</td>\n",
              "      <td>F</td>\n",
              "      <td>A</td>\n",
              "      <td>89.00</td>\n",
              "      <td>92.4</td>\n",
              "      <td>71.45</td>\n",
              "      <td>0</td>\n",
              "      <td>Placed</td>\n",
              "      <td>h</td>\n",
              "      <td>NaN</td>\n",
              "    </tr>\n",
              "    <tr>\n",
              "      <th>2</th>\n",
              "      <td>3</td>\n",
              "      <td>F</td>\n",
              "      <td>A</td>\n",
              "      <td>67.00</td>\n",
              "      <td>68.0</td>\n",
              "      <td>45.31</td>\n",
              "      <td>13</td>\n",
              "      <td>Not placed</td>\n",
              "      <td>d</td>\n",
              "      <td>NaN</td>\n",
              "    </tr>\n",
              "    <tr>\n",
              "      <th>4</th>\n",
              "      <td>5</td>\n",
              "      <td>M</td>\n",
              "      <td>A</td>\n",
              "      <td>NaN</td>\n",
              "      <td>65.5</td>\n",
              "      <td>42.57</td>\n",
              "      <td>17</td>\n",
              "      <td>Not placed</td>\n",
              "      <td>h</td>\n",
              "      <td>NaN</td>\n",
              "    </tr>\n",
              "    <tr>\n",
              "      <th>5</th>\n",
              "      <td>6</td>\n",
              "      <td>M</td>\n",
              "      <td>A</td>\n",
              "      <td>81.26</td>\n",
              "      <td>68.0</td>\n",
              "      <td>62.25</td>\n",
              "      <td>6</td>\n",
              "      <td>Not placed</td>\n",
              "      <td>h</td>\n",
              "      <td>NaN</td>\n",
              "    </tr>\n",
              "  </tbody>\n",
              "</table>\n",
              "</div>"
            ],
            "text/plain": [
              "   Roll No Gender  ... hostlers/days scholar  inter-Diplomo_percentage\n",
              "0        1      M  ...                     d                       NaN\n",
              "1        2      F  ...                     h                       NaN\n",
              "2        3      F  ...                     d                       NaN\n",
              "4        5      M  ...                     h                       NaN\n",
              "5        6      M  ...                     h                       NaN\n",
              "\n",
              "[5 rows x 10 columns]"
            ]
          },
          "metadata": {
            "tags": []
          },
          "execution_count": 22
        }
      ]
    },
    {
      "cell_type": "markdown",
      "metadata": {
        "id": "Olj2v44KL8_a",
        "colab_type": "text"
      },
      "source": [
        "## 5) Iterations on dataframe"
      ]
    },
    {
      "cell_type": "code",
      "metadata": {
        "id": "-Y_ZYOK_MEzg",
        "colab_type": "code",
        "colab": {
          "base_uri": "https://localhost:8080/",
          "height": 101
        },
        "outputId": "318f4beb-50c9-4d77-91f9-50569d002e0e"
      },
      "source": [
        "for index,rows in df[df[\"B.Tech_percentage\"]>=80].iterrows():\n",
        "  print(rows[\"Roll No\"],\"-\",rows[\"B.Tech_percentage\"])"
      ],
      "execution_count": 23,
      "outputs": [
        {
          "output_type": "stream",
          "text": [
            "18 - 85.39\n",
            "60 - 81.1\n",
            "71 - 80.47\n",
            "97 - 88.1\n",
            "102 - 83.38\n"
          ],
          "name": "stdout"
        }
      ]
    },
    {
      "cell_type": "markdown",
      "metadata": {
        "id": "fG48zs-nMqO3",
        "colab_type": "text"
      },
      "source": [
        "## 6) Accessing the elements from a dataframe"
      ]
    },
    {
      "cell_type": "code",
      "metadata": {
        "id": "J4neL6HKM5qi",
        "colab_type": "code",
        "colab": {
          "base_uri": "https://localhost:8080/",
          "height": 106
        },
        "outputId": "b41cb260-df24-4d92-9117-1437675eb2c1"
      },
      "source": [
        "df.loc[[1,2],[\"SSC Percentage\",\"inter_Diploma_percentage\"]]"
      ],
      "execution_count": 24,
      "outputs": [
        {
          "output_type": "execute_result",
          "data": {
            "text/html": [
              "<div>\n",
              "<style scoped>\n",
              "    .dataframe tbody tr th:only-of-type {\n",
              "        vertical-align: middle;\n",
              "    }\n",
              "\n",
              "    .dataframe tbody tr th {\n",
              "        vertical-align: top;\n",
              "    }\n",
              "\n",
              "    .dataframe thead th {\n",
              "        text-align: right;\n",
              "    }\n",
              "</style>\n",
              "<table border=\"1\" class=\"dataframe\">\n",
              "  <thead>\n",
              "    <tr style=\"text-align: right;\">\n",
              "      <th></th>\n",
              "      <th>SSC Percentage</th>\n",
              "      <th>inter_Diploma_percentage</th>\n",
              "    </tr>\n",
              "  </thead>\n",
              "  <tbody>\n",
              "    <tr>\n",
              "      <th>1</th>\n",
              "      <td>89.0</td>\n",
              "      <td>92.4</td>\n",
              "    </tr>\n",
              "    <tr>\n",
              "      <th>2</th>\n",
              "      <td>67.0</td>\n",
              "      <td>68.0</td>\n",
              "    </tr>\n",
              "  </tbody>\n",
              "</table>\n",
              "</div>"
            ],
            "text/plain": [
              "   SSC Percentage  inter_Diploma_percentage\n",
              "1            89.0                      92.4\n",
              "2            67.0                      68.0"
            ]
          },
          "metadata": {
            "tags": []
          },
          "execution_count": 24
        }
      ]
    },
    {
      "cell_type": "markdown",
      "metadata": {
        "id": "saGNQovZNT4_",
        "colab_type": "text"
      },
      "source": [
        "## 7) Different ways to deal with NA’s in dataframe"
      ]
    },
    {
      "cell_type": "code",
      "metadata": {
        "id": "VXogI017NdIt",
        "colab_type": "code",
        "colab": {
          "base_uri": "https://localhost:8080/",
          "height": 195
        },
        "outputId": "a3f41a5f-5097-444e-fabd-64e5d870408e"
      },
      "source": [
        "df[\"SSC Percentage\"]=df[\"SSC Percentage\"].replace(to_replace=np.nan,value=np.mean(df[\"SSC Percentage\"]))\n",
        "df.head()"
      ],
      "execution_count": 25,
      "outputs": [
        {
          "output_type": "execute_result",
          "data": {
            "text/html": [
              "<div>\n",
              "<style scoped>\n",
              "    .dataframe tbody tr th:only-of-type {\n",
              "        vertical-align: middle;\n",
              "    }\n",
              "\n",
              "    .dataframe tbody tr th {\n",
              "        vertical-align: top;\n",
              "    }\n",
              "\n",
              "    .dataframe thead th {\n",
              "        text-align: right;\n",
              "    }\n",
              "</style>\n",
              "<table border=\"1\" class=\"dataframe\">\n",
              "  <thead>\n",
              "    <tr style=\"text-align: right;\">\n",
              "      <th></th>\n",
              "      <th>Roll No</th>\n",
              "      <th>Gender</th>\n",
              "      <th>Section</th>\n",
              "      <th>SSC Percentage</th>\n",
              "      <th>inter_Diploma_percentage</th>\n",
              "      <th>B.Tech_percentage</th>\n",
              "      <th>Backlogs</th>\n",
              "      <th>placement status</th>\n",
              "      <th>hostlers/days scholar</th>\n",
              "      <th>inter-Diplomo_percentage</th>\n",
              "    </tr>\n",
              "  </thead>\n",
              "  <tbody>\n",
              "    <tr>\n",
              "      <th>0</th>\n",
              "      <td>1</td>\n",
              "      <td>M</td>\n",
              "      <td>A</td>\n",
              "      <td>87.300000</td>\n",
              "      <td>65.3</td>\n",
              "      <td>40.05</td>\n",
              "      <td>18</td>\n",
              "      <td>Not placed</td>\n",
              "      <td>d</td>\n",
              "      <td>NaN</td>\n",
              "    </tr>\n",
              "    <tr>\n",
              "      <th>1</th>\n",
              "      <td>2</td>\n",
              "      <td>F</td>\n",
              "      <td>A</td>\n",
              "      <td>89.000000</td>\n",
              "      <td>92.4</td>\n",
              "      <td>71.45</td>\n",
              "      <td>0</td>\n",
              "      <td>Placed</td>\n",
              "      <td>h</td>\n",
              "      <td>NaN</td>\n",
              "    </tr>\n",
              "    <tr>\n",
              "      <th>2</th>\n",
              "      <td>3</td>\n",
              "      <td>F</td>\n",
              "      <td>A</td>\n",
              "      <td>67.000000</td>\n",
              "      <td>68.0</td>\n",
              "      <td>45.31</td>\n",
              "      <td>13</td>\n",
              "      <td>Not placed</td>\n",
              "      <td>d</td>\n",
              "      <td>NaN</td>\n",
              "    </tr>\n",
              "    <tr>\n",
              "      <th>4</th>\n",
              "      <td>5</td>\n",
              "      <td>M</td>\n",
              "      <td>A</td>\n",
              "      <td>80.710776</td>\n",
              "      <td>65.5</td>\n",
              "      <td>42.57</td>\n",
              "      <td>17</td>\n",
              "      <td>Not placed</td>\n",
              "      <td>h</td>\n",
              "      <td>NaN</td>\n",
              "    </tr>\n",
              "    <tr>\n",
              "      <th>5</th>\n",
              "      <td>6</td>\n",
              "      <td>M</td>\n",
              "      <td>A</td>\n",
              "      <td>81.260000</td>\n",
              "      <td>68.0</td>\n",
              "      <td>62.25</td>\n",
              "      <td>6</td>\n",
              "      <td>Not placed</td>\n",
              "      <td>h</td>\n",
              "      <td>NaN</td>\n",
              "    </tr>\n",
              "  </tbody>\n",
              "</table>\n",
              "</div>"
            ],
            "text/plain": [
              "   Roll No Gender  ... hostlers/days scholar  inter-Diplomo_percentage\n",
              "0        1      M  ...                     d                       NaN\n",
              "1        2      F  ...                     h                       NaN\n",
              "2        3      F  ...                     d                       NaN\n",
              "4        5      M  ...                     h                       NaN\n",
              "5        6      M  ...                     h                       NaN\n",
              "\n",
              "[5 rows x 10 columns]"
            ]
          },
          "metadata": {
            "tags": []
          },
          "execution_count": 25
        }
      ]
    },
    {
      "cell_type": "markdown",
      "metadata": {
        "id": "VsdzW7K3OAl8",
        "colab_type": "text"
      },
      "source": [
        "## 8) Groupby operations on dataframe"
      ]
    },
    {
      "cell_type": "code",
      "metadata": {
        "id": "6dV51OoIOJlt",
        "colab_type": "code",
        "colab": {
          "base_uri": "https://localhost:8080/",
          "height": 84
        },
        "outputId": "63db8ab6-3f28-4abe-b4f5-e1af15e5d454"
      },
      "source": [
        "group=df.groupby(\"Gender\")\n",
        "group[\"B.Tech_percentage\"].agg(np.mean)"
      ],
      "execution_count": 26,
      "outputs": [
        {
          "output_type": "execute_result",
          "data": {
            "text/plain": [
              "Gender\n",
              "F    71.292400\n",
              "M    57.343881\n",
              "Name: B.Tech_percentage, dtype: float64"
            ]
          },
          "metadata": {
            "tags": []
          },
          "execution_count": 26
        }
      ]
    },
    {
      "cell_type": "markdown",
      "metadata": {
        "id": "pYTKsc8cOgW5",
        "colab_type": "text"
      },
      "source": [
        "## 9) Merging the dataframes"
      ]
    },
    {
      "cell_type": "code",
      "metadata": {
        "id": "yipnFbpoOr4P",
        "colab_type": "code",
        "colab": {
          "base_uri": "https://localhost:8080/",
          "height": 195
        },
        "outputId": "a01bfec2-4f53-440e-e2b7-82ea11416502"
      },
      "source": [
        "df2=pd.read_csv(\"urban_rural.csv\")\n",
        "df2.head()"
      ],
      "execution_count": 27,
      "outputs": [
        {
          "output_type": "execute_result",
          "data": {
            "text/html": [
              "<div>\n",
              "<style scoped>\n",
              "    .dataframe tbody tr th:only-of-type {\n",
              "        vertical-align: middle;\n",
              "    }\n",
              "\n",
              "    .dataframe tbody tr th {\n",
              "        vertical-align: top;\n",
              "    }\n",
              "\n",
              "    .dataframe thead th {\n",
              "        text-align: right;\n",
              "    }\n",
              "</style>\n",
              "<table border=\"1\" class=\"dataframe\">\n",
              "  <thead>\n",
              "    <tr style=\"text-align: right;\">\n",
              "      <th></th>\n",
              "      <th>Roll No</th>\n",
              "      <th>Urban/Rural</th>\n",
              "    </tr>\n",
              "  </thead>\n",
              "  <tbody>\n",
              "    <tr>\n",
              "      <th>0</th>\n",
              "      <td>1</td>\n",
              "      <td>Urban</td>\n",
              "    </tr>\n",
              "    <tr>\n",
              "      <th>1</th>\n",
              "      <td>2</td>\n",
              "      <td>Rural</td>\n",
              "    </tr>\n",
              "    <tr>\n",
              "      <th>2</th>\n",
              "      <td>6</td>\n",
              "      <td>Rural</td>\n",
              "    </tr>\n",
              "    <tr>\n",
              "      <th>3</th>\n",
              "      <td>7</td>\n",
              "      <td>Urban</td>\n",
              "    </tr>\n",
              "    <tr>\n",
              "      <th>4</th>\n",
              "      <td>8</td>\n",
              "      <td>Urban</td>\n",
              "    </tr>\n",
              "  </tbody>\n",
              "</table>\n",
              "</div>"
            ],
            "text/plain": [
              "   Roll No Urban/Rural\n",
              "0        1       Urban\n",
              "1        2       Rural\n",
              "2        6       Rural\n",
              "3        7       Urban\n",
              "4        8       Urban"
            ]
          },
          "metadata": {
            "tags": []
          },
          "execution_count": 27
        }
      ]
    },
    {
      "cell_type": "code",
      "metadata": {
        "id": "Z_YAadkOPWrC",
        "colab_type": "code",
        "colab": {
          "base_uri": "https://localhost:8080/",
          "height": 195
        },
        "outputId": "574203d7-b565-456f-d58a-538e464eee31"
      },
      "source": [
        "df=pd.merge(df,df2,on=\"Roll No\")\n",
        "df.head()"
      ],
      "execution_count": 28,
      "outputs": [
        {
          "output_type": "execute_result",
          "data": {
            "text/html": [
              "<div>\n",
              "<style scoped>\n",
              "    .dataframe tbody tr th:only-of-type {\n",
              "        vertical-align: middle;\n",
              "    }\n",
              "\n",
              "    .dataframe tbody tr th {\n",
              "        vertical-align: top;\n",
              "    }\n",
              "\n",
              "    .dataframe thead th {\n",
              "        text-align: right;\n",
              "    }\n",
              "</style>\n",
              "<table border=\"1\" class=\"dataframe\">\n",
              "  <thead>\n",
              "    <tr style=\"text-align: right;\">\n",
              "      <th></th>\n",
              "      <th>Roll No</th>\n",
              "      <th>Gender</th>\n",
              "      <th>Section</th>\n",
              "      <th>SSC Percentage</th>\n",
              "      <th>inter_Diploma_percentage</th>\n",
              "      <th>B.Tech_percentage</th>\n",
              "      <th>Backlogs</th>\n",
              "      <th>placement status</th>\n",
              "      <th>hostlers/days scholar</th>\n",
              "      <th>inter-Diplomo_percentage</th>\n",
              "      <th>Urban/Rural</th>\n",
              "    </tr>\n",
              "  </thead>\n",
              "  <tbody>\n",
              "    <tr>\n",
              "      <th>0</th>\n",
              "      <td>1</td>\n",
              "      <td>M</td>\n",
              "      <td>A</td>\n",
              "      <td>87.300000</td>\n",
              "      <td>65.3</td>\n",
              "      <td>40.05</td>\n",
              "      <td>18</td>\n",
              "      <td>Not placed</td>\n",
              "      <td>d</td>\n",
              "      <td>NaN</td>\n",
              "      <td>Urban</td>\n",
              "    </tr>\n",
              "    <tr>\n",
              "      <th>1</th>\n",
              "      <td>2</td>\n",
              "      <td>F</td>\n",
              "      <td>A</td>\n",
              "      <td>89.000000</td>\n",
              "      <td>92.4</td>\n",
              "      <td>71.45</td>\n",
              "      <td>0</td>\n",
              "      <td>Placed</td>\n",
              "      <td>h</td>\n",
              "      <td>NaN</td>\n",
              "      <td>Rural</td>\n",
              "    </tr>\n",
              "    <tr>\n",
              "      <th>2</th>\n",
              "      <td>3</td>\n",
              "      <td>F</td>\n",
              "      <td>A</td>\n",
              "      <td>67.000000</td>\n",
              "      <td>68.0</td>\n",
              "      <td>45.31</td>\n",
              "      <td>13</td>\n",
              "      <td>Not placed</td>\n",
              "      <td>d</td>\n",
              "      <td>NaN</td>\n",
              "      <td>Urban</td>\n",
              "    </tr>\n",
              "    <tr>\n",
              "      <th>3</th>\n",
              "      <td>5</td>\n",
              "      <td>M</td>\n",
              "      <td>A</td>\n",
              "      <td>80.710776</td>\n",
              "      <td>65.5</td>\n",
              "      <td>42.57</td>\n",
              "      <td>17</td>\n",
              "      <td>Not placed</td>\n",
              "      <td>h</td>\n",
              "      <td>NaN</td>\n",
              "      <td>Urban</td>\n",
              "    </tr>\n",
              "    <tr>\n",
              "      <th>4</th>\n",
              "      <td>6</td>\n",
              "      <td>M</td>\n",
              "      <td>A</td>\n",
              "      <td>81.260000</td>\n",
              "      <td>68.0</td>\n",
              "      <td>62.25</td>\n",
              "      <td>6</td>\n",
              "      <td>Not placed</td>\n",
              "      <td>h</td>\n",
              "      <td>NaN</td>\n",
              "      <td>Rural</td>\n",
              "    </tr>\n",
              "  </tbody>\n",
              "</table>\n",
              "</div>"
            ],
            "text/plain": [
              "   Roll No Gender  ... inter-Diplomo_percentage  Urban/Rural\n",
              "0        1      M  ...                      NaN        Urban\n",
              "1        2      F  ...                      NaN        Rural\n",
              "2        3      F  ...                      NaN        Urban\n",
              "3        5      M  ...                      NaN        Urban\n",
              "4        6      M  ...                      NaN        Rural\n",
              "\n",
              "[5 rows x 11 columns]"
            ]
          },
          "metadata": {
            "tags": []
          },
          "execution_count": 28
        }
      ]
    }
  ]
}