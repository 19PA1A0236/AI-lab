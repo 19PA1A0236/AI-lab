{
  "nbformat": 4,
  "nbformat_minor": 0,
  "metadata": {
    "colab": {
      "name": "Experiment 1 numpy.ipynb",
      "provenance": [],
      "authorship_tag": "ABX9TyOf+pWrWFW6FyyT4+dp7iMW",
      "include_colab_link": true
    },
    "kernelspec": {
      "name": "python3",
      "display_name": "Python 3"
    }
  },
  "cells": [
    {
      "cell_type": "markdown",
      "metadata": {
        "id": "view-in-github",
        "colab_type": "text"
      },
      "source": [
        "<a href=\"https://colab.research.google.com/github/19PA1A0236/AI-lab/blob/master/Experiment_1_numpy.ipynb\" target=\"_parent\"><img src=\"https://colab.research.google.com/assets/colab-badge.svg\" alt=\"Open In Colab\"/></a>"
      ]
    },
    {
      "cell_type": "markdown",
      "metadata": {
        "id": "tltbRapjkzJ0",
        "colab_type": "text"
      },
      "source": [
        "EXPERIMENT-1 1.NUMPY \n",
        "#i)Different ways to create numpy arrays\n",
        "##a)Create a numpy array using list\n",
        "\n"
      ]
    },
    {
      "cell_type": "code",
      "metadata": {
        "id": "3WmO0U3bYPlG",
        "colab_type": "code",
        "colab": {}
      },
      "source": [
        ""
      ],
      "execution_count": null,
      "outputs": []
    },
    {
      "cell_type": "markdown",
      "metadata": {
        "id": "sGxgfPOsXjO0",
        "colab_type": "text"
      },
      "source": [
        ""
      ]
    },
    {
      "cell_type": "code",
      "metadata": {
        "id": "NEEW0ZG8k2SN",
        "colab_type": "code",
        "colab": {
          "base_uri": "https://localhost:8080/",
          "height": 34
        },
        "outputId": "d1841f3e-3773-497b-e1b5-eaec51ce3fcc"
      },
      "source": [
        "import numpy as np\n",
        "a = np.array([2,6,9])  \n",
        "print (a)"
      ],
      "execution_count": null,
      "outputs": [
        {
          "output_type": "stream",
          "text": [
            "[2 6 9]\n"
          ],
          "name": "stdout"
        }
      ]
    },
    {
      "cell_type": "code",
      "metadata": {
        "id": "53Pw_684lB5W",
        "colab_type": "code",
        "colab": {
          "base_uri": "https://localhost:8080/",
          "height": 52
        },
        "outputId": "5c7113a9-37ae-4f23-cf3b-7e2cda86a333"
      },
      "source": [
        "a = np.array([[1, 2], [3, 4]]) \n",
        "print (a)"
      ],
      "execution_count": null,
      "outputs": [
        {
          "output_type": "stream",
          "text": [
            "[[1 2]\n",
            " [3 4]]\n"
          ],
          "name": "stdout"
        }
      ]
    },
    {
      "cell_type": "markdown",
      "metadata": {
        "id": "p_yXw5JdlJao",
        "colab_type": "text"
      },
      "source": [
        "ii).Add,remove,modify elements in an array.\n",
        "\n"
      ]
    },
    {
      "cell_type": "code",
      "metadata": {
        "id": "76nl7Y7ylPIH",
        "colab_type": "code",
        "colab": {
          "base_uri": "https://localhost:8080/",
          "height": 34
        },
        "outputId": "d417e91d-f43c-46a6-ad11-e586c597a275"
      },
      "source": [
        "newArray = np.append(a,[44,36,48])\n",
        "print(newArray)"
      ],
      "execution_count": null,
      "outputs": [
        {
          "output_type": "stream",
          "text": [
            "[ 1  2  3  4 44 36 48]\n"
          ],
          "name": "stdout"
        }
      ]
    },
    {
      "cell_type": "code",
      "metadata": {
        "id": "JYavQ6PKlWRL",
        "colab_type": "code",
        "colab": {
          "base_uri": "https://localhost:8080/",
          "height": 34
        },
        "outputId": "0c8c5e18-e18a-4a12-9f48-0bd90a8d5a7f"
      },
      "source": [
        "import numpy as np\n",
        "l=np.array([4,6,9,3,7])\n",
        "l=np.delete(l,4)\n",
        "print(l)"
      ],
      "execution_count": null,
      "outputs": [
        {
          "output_type": "stream",
          "text": [
            "[4 6 9 3]\n"
          ],
          "name": "stdout"
        }
      ]
    },
    {
      "cell_type": "code",
      "metadata": {
        "id": "owkL0uqVlcAL",
        "colab_type": "code",
        "colab": {
          "base_uri": "https://localhost:8080/",
          "height": 34
        },
        "outputId": "eb116221-264b-4b62-baae-bf77944b41f5"
      },
      "source": [
        "b=np.array([9,6,4,1,8,5])\n",
        "b[b<2]=-1\n",
        "print(b)"
      ],
      "execution_count": null,
      "outputs": [
        {
          "output_type": "stream",
          "text": [
            "[ 9  6  4 -1  8  5]\n"
          ],
          "name": "stdout"
        }
      ]
    },
    {
      "cell_type": "markdown",
      "metadata": {
        "id": "e7_jDRUblpg9",
        "colab_type": "text"
      },
      "source": [
        "iii).Arthimetic operations on Numpy array\n"
      ]
    },
    {
      "cell_type": "code",
      "metadata": {
        "id": "FZZQbN7YlvNn",
        "colab_type": "code",
        "colab": {
          "base_uri": "https://localhost:8080/",
          "height": 1000
        },
        "outputId": "beee5d24-0390-4fdf-a838-94b4aae80727"
      },
      "source": [
        "import numpy as np\n",
        "v=np.random.random((8,8))\n",
        "n=np.random.random((8,8))\n",
        "sum=np.add(v,n)\n",
        "diff=np.subtract(v,n)\n",
        "prod=np.multiply(v,n)\n",
        "quo=np.divide(v,n)\n",
        "mod=np.mod(v,n)\n",
        "pow=np.power(v,n)\n",
        "print(sum)\n",
        "print(diff)\n",
        "print(prod)\n",
        "print(quo)\n",
        "print(mod)\n",
        "print(pow)"
      ],
      "execution_count": null,
      "outputs": [
        {
          "output_type": "stream",
          "text": [
            "[[1.23398146 0.40253284 1.03703056 0.05134812 0.40995854 1.26197622\n",
            "  1.7435294  0.82405167]\n",
            " [0.51781404 0.87663604 0.45559698 1.71394472 1.02478364 1.37719553\n",
            "  0.64912631 0.97235899]\n",
            " [0.18425138 1.4491573  0.49822159 1.64362328 0.69283911 0.48945569\n",
            "  0.99826158 1.41102499]\n",
            " [0.714708   0.78224007 1.43802912 0.47947344 1.19353961 0.61511211\n",
            "  0.54241572 0.63432066]\n",
            " [0.66318959 1.67975527 1.32792062 1.48717493 0.98703004 0.87566163\n",
            "  1.67739121 1.11373843]\n",
            " [0.35116757 0.55841289 1.52027418 1.0060255  0.85558969 0.16596659\n",
            "  1.08890513 1.62514533]\n",
            " [0.25490471 1.16358829 1.93979122 0.61559141 1.3863378  0.28793542\n",
            "  1.02123979 0.8365854 ]\n",
            " [1.06783833 1.04969542 0.96438106 1.26918863 1.07922916 1.02123825\n",
            "  1.35284823 0.80935267]]\n",
            "[[ 0.63594816  0.1947187   0.92616619 -0.05133487 -0.16548487 -0.57808451\n",
            "  -0.23186527 -0.71760914]\n",
            " [-0.22373091 -0.75881548  0.06045962  0.03496101 -0.1455665   0.51721067\n",
            "   0.55872127 -0.62501897]\n",
            " [-0.15977834 -0.30668276 -0.30064411  0.34287453  0.29520756  0.21280696\n",
            "  -0.11084845 -0.28836482]\n",
            " [-0.63363861  0.37571326 -0.15015133 -0.22035917 -0.16920488 -0.39373543\n",
            "   0.41267469 -0.53419542]\n",
            " [-0.41790136 -0.07940978 -0.64483579 -0.02776178  0.72758926 -0.72163498\n",
            "  -0.23833649 -0.26333956]\n",
            " [-0.16077171  0.18271091 -0.12626972  0.23163765  0.72659    -0.15035822\n",
            "  -0.58981388 -0.1834219 ]\n",
            " [-0.24926424  0.18798719 -0.02945449  0.32834255  0.47291204  0.01181432\n",
            "  -0.67598802 -0.30766996]\n",
            " [ 0.84112235 -0.01338723 -0.91966682 -0.55006682 -0.5039924  -0.46774604\n",
            "  -0.15726173  0.07038019]]\n",
            "[[2.79570047e-01 3.10293290e-02 5.44121434e-02 3.40211534e-07\n",
            "  3.51701906e-02 3.14600572e-01 7.46533317e-01 4.10245713e-02]\n",
            " [5.45189652e-02 4.81724539e-02 5.09783097e-02 7.34096058e-01\n",
            "  2.57247978e-01 4.07290160e-01 2.72988772e-02 1.38708324e-01]\n",
            " [2.10486312e-03 5.01500637e-01 3.94594690e-02 6.45983637e-01\n",
            "  9.82196299e-02 4.85700174e-02 2.46059702e-01 4.76959309e-01]\n",
            " [2.73274105e-02 1.17684770e-01 5.11345582e-01 4.53341550e-02\n",
            "  3.48976629e-01 5.58338287e-02 3.09786036e-02 2.92494887e-02]\n",
            " [6.62947217e-02 7.03817962e-01 3.36889993e-01 5.52729638e-01\n",
            "  1.11210543e-01 6.15065624e-02 6.89209248e-01 2.92766390e-01]\n",
            " [2.43677804e-02 6.96104200e-02 5.73822386e-01 2.39607829e-01\n",
            "  5.10251730e-02 1.23432863e-03 2.09458493e-01 6.51863439e-01]\n",
            " [7.10937276e-04 3.29649629e-01 9.40480605e-01 6.77859882e-02\n",
            "  4.24571677e-01 2.06918072e-02 1.46492725e-01 1.51303581e-01]\n",
            " [1.08197974e-01 2.75420316e-01 2.10609417e-02 3.27066567e-01\n",
            "  2.27681809e-01 2.06035304e-01 4.51366769e-01 1.62524592e-01]]\n",
            "[[3.12679846e+00 2.87396964e+00 1.77080944e+01 1.29066041e-04\n",
            "  4.24843984e-01 3.71668012e-01 7.65246634e-01 6.90440689e-02]\n",
            " [3.96581658e-01 7.20416096e-02 1.30601824e+00 1.04164544e+00\n",
            "  7.51242822e-01 2.20283670e+00 1.33604009e+01 2.17443856e-01]\n",
            " [7.11364054e-02 6.50671184e-01 2.47322525e-01 1.52719564e+00\n",
            "  2.48482972e+00 2.53846327e+00 8.00112806e-01 6.60625451e-01]\n",
            " [6.01250402e-02 2.84840579e+00 8.10914014e-01 3.70251787e-01\n",
            "  7.51670431e-01 2.19435217e-01 7.36151407e+00 8.56858058e-02]\n",
            " [2.26889545e-01 9.09718782e-01 3.46259084e-01 9.63349250e-01\n",
            "  6.60890434e+00 9.64295863e-02 7.51179155e-01 6.17538643e-01]\n",
            " [3.71911017e-01 1.97263744e+00 8.46624532e-01 1.59824710e+00\n",
            "  1.22649882e+01 4.93428586e-02 2.97304819e-01 7.97163310e-01]\n",
            " [1.11876553e-02 1.38537716e+00 9.70085510e-01 3.28611911e+00\n",
            "  2.03546902e+00 1.08557349e+00 2.03420993e-01 4.62235494e-01]\n",
            " [8.42005351e+00 9.74814321e-01 2.37330693e-02 3.95283580e-01\n",
            "  3.63333072e-01 3.71724685e-01 7.91721489e-01 1.19048122e+00]]\n",
            "[[3.79148525e-02 9.08116261e-02 3.92512200e-02 6.62644368e-06\n",
            "  1.22236835e-01 3.41945857e-01 7.55832064e-01 5.32212676e-02]\n",
            " [1.47041564e-01 5.89102803e-02 6.04596201e-02 3.49610072e-02\n",
            "  4.39608572e-01 8.72182430e-02 1.62910311e-02 1.73670011e-01]\n",
            " [1.22365189e-02 5.71237266e-01 9.87887419e-02 3.42874534e-01\n",
            "  9.63917944e-02 7.44825899e-02 4.43706568e-01 5.61330080e-01]\n",
            " [4.05346969e-02 1.72449851e-01 6.43938894e-01 1.29557138e-01\n",
            "  5.12167368e-01 1.10688339e-01 2.34516041e-02 5.00626208e-02]\n",
            " [1.22644116e-01 8.00172743e-01 3.41542414e-01 7.29706573e-01\n",
            "  7.89873088e-02 7.70133259e-02 7.19527360e-01 4.25199434e-01]\n",
            " [9.51979305e-02 1.82710907e-01 6.97002230e-01 2.31637645e-01\n",
            "  1.70917008e-02 7.80418497e-03 2.49545626e-01 7.20861718e-01]\n",
            " [2.82023424e-03 1.87987190e-01 9.55168366e-01 4.10936937e-02\n",
            "  1.61991569e-02 1.18143232e-02 1.72625883e-01 2.64457720e-01]\n",
            " [4.76164217e-02 5.18154097e-01 2.23571194e-02 3.59560904e-01\n",
            "  2.87618377e-01 2.76746108e-01 5.97793250e-01 7.03801880e-02]]\n",
            "[[0.98009302 0.88198665 0.99897099 0.54214667 0.5462208  0.37258606\n",
            "  0.75843961 0.1042384 ]\n",
            " [0.49125808 0.09870828 0.7651805  0.89348689 0.61820315 0.97694635\n",
            "  0.97746191 0.2470453 ]\n",
            " [0.46886599 0.61165195 0.39669172 0.99560407 0.86918489 0.86522163\n",
            "  0.63722857 0.61222644]\n",
            " [0.11519512 0.89486532 0.70502645 0.4891429  0.63387166 0.32947485\n",
            "  0.95318567 0.17385227]\n",
            " [0.32164152 0.8219438  0.34657718 0.78766063 0.98022686 0.12904992\n",
            "  0.72957642 0.55497265]\n",
            " [0.54772132 0.82987    0.74291493 0.83042062 0.98499853 0.46413623\n",
            "  0.31188328 0.74380289]\n",
            " [0.22764414 0.82600252 0.9558423  0.89777135 0.96722106 0.7694859\n",
            "  0.22521508 0.46721204]\n",
            " [0.99473277 0.70505521 0.02786828 0.39438312 0.37290088 0.38426787\n",
            "  0.67808436 0.73826444]]\n"
          ],
          "name": "stdout"
        }
      ]
    },
    {
      "cell_type": "markdown",
      "metadata": {
        "id": "yKH9Rbw0mOiq",
        "colab_type": "text"
      },
      "source": [
        "iv).Slicing and iterating of numpy arrays\n"
      ]
    },
    {
      "cell_type": "markdown",
      "metadata": {
        "id": "neDuvbNlmUfB",
        "colab_type": "text"
      },
      "source": [
        "Slicing"
      ]
    },
    {
      "cell_type": "code",
      "metadata": {
        "id": "8NM8GiLtmWDr",
        "colab_type": "code",
        "colab": {
          "base_uri": "https://localhost:8080/",
          "height": 34
        },
        "outputId": "f33333e4-794e-454e-8770-d0a57ae910a0"
      },
      "source": [
        "import numpy as np\n",
        "arr=np.array([4,5,6,8,9,7])\n",
        "print(arr[2:6])"
      ],
      "execution_count": null,
      "outputs": [
        {
          "output_type": "stream",
          "text": [
            "[6 8 9 7]\n"
          ],
          "name": "stdout"
        }
      ]
    },
    {
      "cell_type": "markdown",
      "metadata": {
        "id": "zo86V45VmgcP",
        "colab_type": "text"
      },
      "source": [
        "Iterating"
      ]
    },
    {
      "cell_type": "code",
      "metadata": {
        "id": "DWivczmjmiid",
        "colab_type": "code",
        "colab": {
          "base_uri": "https://localhost:8080/",
          "height": 124
        },
        "outputId": "496d7de5-bf65-455c-b1f5-b7c1f73f80f8"
      },
      "source": [
        "for i in arr:\n",
        "  print(i)"
      ],
      "execution_count": null,
      "outputs": [
        {
          "output_type": "stream",
          "text": [
            "4\n",
            "5\n",
            "6\n",
            "8\n",
            "9\n",
            "7\n"
          ],
          "name": "stdout"
        }
      ]
    },
    {
      "cell_type": "markdown",
      "metadata": {
        "id": "6Uge347Bmq0W",
        "colab_type": "text"
      },
      "source": [
        "v)\n",
        ".Matrix operation on numpy arrays."
      ]
    },
    {
      "cell_type": "code",
      "metadata": {
        "id": "yN6BWFErmuvo",
        "colab_type": "code",
        "colab": {
          "base_uri": "https://localhost:8080/",
          "height": 124
        },
        "outputId": "ee81a9be-48e0-4fa7-ff77-03f5904876a6"
      },
      "source": [
        "import numpy as np\n",
        "v=np.array([[5,9],[4,3]])\n",
        "i=np.array([[2,16],[1,12]])\n",
        "print(np.add(v,i))\n",
        "print(np.subtract(v,i))\n",
        "print(np.divide(v,i))"
      ],
      "execution_count": null,
      "outputs": [
        {
          "output_type": "stream",
          "text": [
            "[[ 7 25]\n",
            " [ 5 15]]\n",
            "[[ 3 -7]\n",
            " [ 3 -9]]\n",
            "[[2.5    0.5625]\n",
            " [4.     0.25  ]]\n"
          ],
          "name": "stdout"
        }
      ]
    }
  ]
}